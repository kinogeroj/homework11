{
 "cells": [
  {
   "cell_type": "code",
   "execution_count": null,
   "id": "d43c7467",
   "metadata": {},
   "outputs": [],
   "source": [
    "# Дана функция:\n",
    "# f(x) = sin(x)^2 - cos(x)^2\n",
    "# Необходимо\n",
    "# - Определить корни\n",
    "# - Найти интервалы, на которых функция возрастает\n",
    "# - Найти интервалы, на которых функция убывает\n",
    "# - Построить график\n",
    "# - Вычислить вершину\n",
    "# - Определить промежутки, на котором f > 0\n",
    "# - Определить промежутки, на котором f < 0\n",
    "# Дополнительно:\n",
    "# По желанию (scipy)\n",
    "# f(x) = -12x^4*sin(cos(x)) - 18x^3+5x^2 + 10x - 30\n",
    "\n",
    "from sympy import *\n",
    "import math\n",
    "\n",
    "x = Symbol('x')\n",
    "f1 = sin(x)**2 - cos(x)**2\n",
    "\n",
    "f2 = -12 * x**4 * sin(cos(x)) - 18 * x**3 + 5 * x**2 + 10 * x - 30\n",
    "\n",
    "plot(f1)\n",
    "plot(f2)\n",
    "\n",
    "print(f1)\n",
    "print(f2)"
   ]
  }
 ],
 "metadata": {
  "kernelspec": {
   "display_name": "Python 3 (ipykernel)",
   "language": "python",
   "name": "python3"
  },
  "language_info": {
   "codemirror_mode": {
    "name": "ipython",
    "version": 3
   },
   "file_extension": ".py",
   "mimetype": "text/x-python",
   "name": "python",
   "nbconvert_exporter": "python",
   "pygments_lexer": "ipython3",
   "version": "3.9.13"
  }
 },
 "nbformat": 4,
 "nbformat_minor": 5
}
